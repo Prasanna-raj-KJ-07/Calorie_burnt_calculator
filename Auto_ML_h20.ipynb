{
  "nbformat": 4,
  "nbformat_minor": 0,
  "metadata": {
    "colab": {
      "provenance": []
    },
    "kernelspec": {
      "name": "python3",
      "display_name": "Python 3"
    },
    "language_info": {
      "name": "python"
    }
  },
  "cells": [
    {
      "cell_type": "code",
      "execution_count": 1,
      "metadata": {
        "colab": {
          "base_uri": "https://localhost:8080/"
        },
        "id": "0D-Crtp5w_Wr",
        "outputId": "9cd40bb0-e9c8-4366-cde8-7fe141c3b65e"
      },
      "outputs": [
        {
          "output_type": "stream",
          "name": "stdout",
          "text": [
            "Collecting h2o\n",
            "  Downloading h2o-3.46.0.6.tar.gz (265.8 MB)\n",
            "\u001b[2K     \u001b[90m━━━━━━━━━━━━━━━━━━━━━━━━━━━━━━━━━━━━━━━━\u001b[0m \u001b[32m265.8/265.8 MB\u001b[0m \u001b[31m3.2 MB/s\u001b[0m eta \u001b[36m0:00:00\u001b[0m\n",
            "\u001b[?25h  Preparing metadata (setup.py) ... \u001b[?25l\u001b[?25hdone\n",
            "Requirement already satisfied: requests in /usr/local/lib/python3.11/dist-packages (from h2o) (2.32.3)\n",
            "Requirement already satisfied: tabulate in /usr/local/lib/python3.11/dist-packages (from h2o) (0.9.0)\n",
            "Requirement already satisfied: charset-normalizer<4,>=2 in /usr/local/lib/python3.11/dist-packages (from requests->h2o) (3.4.1)\n",
            "Requirement already satisfied: idna<4,>=2.5 in /usr/local/lib/python3.11/dist-packages (from requests->h2o) (3.10)\n",
            "Requirement already satisfied: urllib3<3,>=1.21.1 in /usr/local/lib/python3.11/dist-packages (from requests->h2o) (2.3.0)\n",
            "Requirement already satisfied: certifi>=2017.4.17 in /usr/local/lib/python3.11/dist-packages (from requests->h2o) (2024.12.14)\n",
            "Building wheels for collected packages: h2o\n",
            "  Building wheel for h2o (setup.py) ... \u001b[?25l\u001b[?25hdone\n",
            "  Created wheel for h2o: filename=h2o-3.46.0.6-py2.py3-none-any.whl size=265859786 sha256=5b590a6430ae6bb45d800202ab64eac41825688a2eee46ced63e7cc2523057cd\n",
            "  Stored in directory: /root/.cache/pip/wheels/62/f9/aa/687bd54342d2981bc78e22ee9b9bc39f92006e344e7aa1e0ac\n",
            "Successfully built h2o\n",
            "Installing collected packages: h2o\n",
            "Successfully installed h2o-3.46.0.6\n"
          ]
        }
      ],
      "source": [
        "pip install h2o"
      ]
    },
    {
      "cell_type": "code",
      "source": [
        "import h2o\n",
        "from sklearn.metrics import r2_score\n",
        "from h2o.automl import H2OAutoML\n",
        "import pandas as pd\n",
        "import numpy as np\n",
        "from sklearn.metrics import mean_squared_error, mean_absolute_error, mean_squared_log_error\n",
        "from sklearn.model_selection import train_test_split\n",
        "# Load your dataset\n",
        "data = pd.read_csv('/content/drive/MyDrive/Data set/Prasanna raj KJ_717822I239.csv')\n",
        "data=data.replace(np.nan,0)\n",
        "# Separate features and target variable\n",
        "a = data.iloc[:,[0,2,3,5]] # Features\n",
        "b = data[\"Calories (kcal)\"] # Target variable\n",
        "# Split the dataset into training and testing sets\n",
        "# Split the dataset into training and testing sets\n",
        "x_train,x_test,y_train,y_test = train_test_split(a,b,test_size=0.2,random_state=1)\n",
        "# Initialize H2O cluster\n",
        "h2o.init()\n",
        "# Assuming you have a DataFrame 'train_df' containing your training data\n",
        "# and 'test_df' containing your test data\n",
        "# Combine X_train and y_train into one DataFrame\n",
        "train_data = pd.concat([x_train, y_train], axis=1)\n",
        "# Convert your data to H2O Frame\n",
        "train_h2o = h2o.H2OFrame(train_data)\n",
        "test_h2o = h2o.H2OFrame(x_test)\n",
        "# Specify the features and target variable\n",
        "x = train_h2o.columns  # Features\n",
        "y = \"Calories (kcal)\"  # Target variable\n",
        "# Run AutoML\n",
        "automl = H2OAutoML(max_models=10, seed=42)  # You can adjust max_models and other parameters as needed\n",
        "automl.train(x=x, y=y, training_frame=train_h2o)\n",
        "# Get the leaderboard\n",
        "leaderboard = automl.leaderboard\n",
        "# Print the leaderboard\n",
        "print(leaderboard)\n",
        "# Get the best model from AutoML\n",
        "best_model = automl.leader\n",
        "# Evaluate the best model on the test data\n",
        "perf = best_model.model_performance(test_h2o)\n",
        "print(perf)\n",
        "# Make predictions using the best model\n",
        "predictions = best_model.predict(test_h2o)\n",
        "# Convert H2O predictions to pandas DataFrame\n",
        "predictions_df = predictions.as_data_frame()\n",
        "#Calculate R-squared score\n",
        "r2 = r2_score(y_test, predictions_df)\n",
        "print(\"R-squared score:\", r2)\n",
        "# Calculate evaluation metrics\n",
        "mse = mean_squared_error(y_test, predictions_df)\n",
        "mae = mean_absolute_error(y_test, predictions_df)\n",
        "rmse = mean_squared_error(y_test, predictions_df,)\n",
        "msle = mean_squared_log_error(y_test, predictions_df)\n",
        "print(\"Mean Squared Error (MSE):\", mse)\n",
        "print(\"Mean Absolute Error (MAE):\", mae)\n",
        "print(\"Root Mean Squared Error (RMSE):\", rmse)\n",
        "print(\"Mean Squared Logarithmic Error (MSLE):\", msle)"
      ],
      "metadata": {
        "colab": {
          "base_uri": "https://localhost:8080/",
          "height": 873
        },
        "id": "-lKKcjdzxaTc",
        "outputId": "75926bdd-b835-4cbb-bc37-1442670af927"
      },
      "execution_count": 3,
      "outputs": [
        {
          "output_type": "stream",
          "name": "stdout",
          "text": [
            "Checking whether there is an H2O instance running at http://localhost:54321. connected.\n"
          ]
        },
        {
          "output_type": "display_data",
          "data": {
            "text/plain": [
              "--------------------------  -----------------------------------------------------------------------------------------\n",
              "H2O_cluster_uptime:         2 mins 40 secs\n",
              "H2O_cluster_timezone:       Etc/UTC\n",
              "H2O_data_parsing_timezone:  UTC\n",
              "H2O_cluster_version:        3.46.0.6\n",
              "H2O_cluster_version_age:    2 months and 25 days\n",
              "H2O_cluster_name:           H2O_from_python_unknownUser_zv9dmc\n",
              "H2O_cluster_total_nodes:    1\n",
              "H2O_cluster_free_memory:    3.165 Gb\n",
              "H2O_cluster_total_cores:    2\n",
              "H2O_cluster_allowed_cores:  2\n",
              "H2O_cluster_status:         locked, healthy\n",
              "H2O_connection_url:         http://localhost:54321\n",
              "H2O_connection_proxy:       {\"http\": null, \"https\": null, \"colab_language_server\": \"/usr/colab/bin/language_service\"}\n",
              "H2O_internal_security:      False\n",
              "Python_version:             3.11.11 final\n",
              "--------------------------  -----------------------------------------------------------------------------------------"
            ],
            "text/html": [
              "\n",
              "<style>\n",
              "\n",
              "#h2o-table-2.h2o-container {\n",
              "  overflow-x: auto;\n",
              "}\n",
              "#h2o-table-2 .h2o-table {\n",
              "  /* width: 100%; */\n",
              "  margin-top: 1em;\n",
              "  margin-bottom: 1em;\n",
              "}\n",
              "#h2o-table-2 .h2o-table caption {\n",
              "  white-space: nowrap;\n",
              "  caption-side: top;\n",
              "  text-align: left;\n",
              "  /* margin-left: 1em; */\n",
              "  margin: 0;\n",
              "  font-size: larger;\n",
              "}\n",
              "#h2o-table-2 .h2o-table thead {\n",
              "  white-space: nowrap; \n",
              "  position: sticky;\n",
              "  top: 0;\n",
              "  box-shadow: 0 -1px inset;\n",
              "}\n",
              "#h2o-table-2 .h2o-table tbody {\n",
              "  overflow: auto;\n",
              "}\n",
              "#h2o-table-2 .h2o-table th,\n",
              "#h2o-table-2 .h2o-table td {\n",
              "  text-align: right;\n",
              "  /* border: 1px solid; */\n",
              "}\n",
              "#h2o-table-2 .h2o-table tr:nth-child(even) {\n",
              "  /* background: #F5F5F5 */\n",
              "}\n",
              "\n",
              "</style>      \n",
              "<div id=\"h2o-table-2\" class=\"h2o-container\">\n",
              "  <table class=\"h2o-table\">\n",
              "    <caption></caption>\n",
              "    <thead></thead>\n",
              "    <tbody><tr><td>H2O_cluster_uptime:</td>\n",
              "<td>2 mins 40 secs</td></tr>\n",
              "<tr><td>H2O_cluster_timezone:</td>\n",
              "<td>Etc/UTC</td></tr>\n",
              "<tr><td>H2O_data_parsing_timezone:</td>\n",
              "<td>UTC</td></tr>\n",
              "<tr><td>H2O_cluster_version:</td>\n",
              "<td>3.46.0.6</td></tr>\n",
              "<tr><td>H2O_cluster_version_age:</td>\n",
              "<td>2 months and 25 days</td></tr>\n",
              "<tr><td>H2O_cluster_name:</td>\n",
              "<td>H2O_from_python_unknownUser_zv9dmc</td></tr>\n",
              "<tr><td>H2O_cluster_total_nodes:</td>\n",
              "<td>1</td></tr>\n",
              "<tr><td>H2O_cluster_free_memory:</td>\n",
              "<td>3.165 Gb</td></tr>\n",
              "<tr><td>H2O_cluster_total_cores:</td>\n",
              "<td>2</td></tr>\n",
              "<tr><td>H2O_cluster_allowed_cores:</td>\n",
              "<td>2</td></tr>\n",
              "<tr><td>H2O_cluster_status:</td>\n",
              "<td>locked, healthy</td></tr>\n",
              "<tr><td>H2O_connection_url:</td>\n",
              "<td>http://localhost:54321</td></tr>\n",
              "<tr><td>H2O_connection_proxy:</td>\n",
              "<td>{\"http\": null, \"https\": null, \"colab_language_server\": \"/usr/colab/bin/language_service\"}</td></tr>\n",
              "<tr><td>H2O_internal_security:</td>\n",
              "<td>False</td></tr>\n",
              "<tr><td>Python_version:</td>\n",
              "<td>3.11.11 final</td></tr></tbody>\n",
              "  </table>\n",
              "</div>\n"
            ]
          },
          "metadata": {}
        },
        {
          "output_type": "stream",
          "name": "stdout",
          "text": [
            "Parse progress: |████████████████████████████████████████████████████████████████| (done) 100%\n",
            "Parse progress: |████████████████████████████████████████████████████████████████| (done) 100%\n",
            "AutoML progress: |███████████████████████████████████████████████████████████████| (done) 100%\n",
            "model_id                                                    rmse      mse      mae     rmsle    mean_residual_deviance\n",
            "DRF_1_AutoML_2_20250127_152022                           8.76     76.7377  4.82994  0.271851                   76.7377\n",
            "StackedEnsemble_AllModels_1_AutoML_2_20250127_152022     8.77759  77.0462  4.99921  0.272937                   77.0462\n",
            "StackedEnsemble_BestOfFamily_1_AutoML_2_20250127_152022  8.83687  78.0903  5.01805  0.273824                   78.0903\n",
            "XRT_1_AutoML_2_20250127_152022                           8.87328  78.7351  5.29311  0.28008                    78.7351\n",
            "XGBoost_3_AutoML_2_20250127_152022                       8.98502  80.7307  4.74071  0.277061                   80.7307\n",
            "GBM_3_AutoML_2_20250127_152022                           9.1052   82.9046  5.47904  0.287969                   82.9046\n",
            "GBM_4_AutoML_2_20250127_152022                           9.1156   83.0942  5.44518  0.288464                   83.0942\n",
            "XGBoost_2_AutoML_2_20250127_152022                       9.11794  83.1369  4.7496   0.286306                   83.1369\n",
            "GBM_2_AutoML_2_20250127_152022                           9.17692  84.2159  5.52     0.288666                   84.2159\n",
            "XGBoost_1_AutoML_2_20250127_152022                       9.29905  86.4723  5.53574  0.290906                   86.4723\n",
            "[12 rows x 6 columns]\n",
            "\n",
            "WARNING: Model metrics cannot be calculated and metric_json is empty due to the absence of the response column in your dataset.\n",
            "None\n",
            "drf prediction progress: |███████████████████████████████████████████████████████| (done) 100%\n",
            "R-squared score: 0.7957552517622253\n",
            "Mean Squared Error (MSE): 56.142812059637095\n",
            "Mean Absolute Error (MAE): 4.114667686342157\n",
            "Root Mean Squared Error (RMSE): 56.142812059637095\n",
            "Mean Squared Logarithmic Error (MSLE): 0.06406104930673356\n"
          ]
        },
        {
          "output_type": "stream",
          "name": "stderr",
          "text": [
            "/usr/local/lib/python3.11/dist-packages/h2o/frame.py:1983: H2ODependencyWarning: Converting H2O frame to pandas dataframe using single-thread.  For faster conversion using multi-thread, install polars and pyarrow and use it as pandas_df = h2o_df.as_data_frame(use_multi_thread=True)\n",
            "\n",
            "  warnings.warn(\"Converting H2O frame to pandas dataframe using single-thread.  For faster conversion using\"\n"
          ]
        }
      ]
    },
    {
      "cell_type": "code",
      "source": [],
      "metadata": {
        "id": "fk6q0PyVVs5b"
      },
      "execution_count": null,
      "outputs": []
    }
  ]
}